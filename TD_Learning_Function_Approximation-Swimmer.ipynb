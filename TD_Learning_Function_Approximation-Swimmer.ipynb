{
 "cells": [
  {
   "cell_type": "code",
   "execution_count": 6,
   "metadata": {},
   "outputs": [
    {
     "name": "stdout",
     "output_type": "stream",
     "text": [
      "The autoreload extension is already loaded. To reload it, use:\n",
      "  %reload_ext autoreload\n"
     ]
    }
   ],
   "source": [
    "%matplotlib inline\n",
    "%load_ext autoreload\n",
    "%autoreload 2\n",
    "\n",
    "import gym\n",
    "import itertools\n",
    "import matplotlib\n",
    "import numpy as np\n",
    "import sys\n",
    "import sklearn.pipeline\n",
    "import sklearn.preprocessing\n",
    "import pickle\n",
    "import matplotlib.pyplot as plt\n",
    "\n",
    "from value_estimator import ValueEstimator\n",
    "\n",
    "from sklearn.linear_model import SGDRegressor\n",
    "from sklearn.kernel_approximation import RBFSampler\n",
    "\n",
    "matplotlib.style.use('ggplot')"
   ]
  },
  {
   "cell_type": "code",
   "execution_count": 7,
   "metadata": {},
   "outputs": [],
   "source": [
    "def parse(s):\n",
    "    split = s.split(',')\n",
    "    n = np.zeros(len(split))\n",
    "    for i in range(len(split)):\n",
    "        n[i] = float(split[i])\n",
    "    return n"
   ]
  },
  {
   "cell_type": "code",
   "execution_count": 8,
   "metadata": {},
   "outputs": [],
   "source": [
    "demonstration_file = \"swimmer_demonstrations_10k\"\n",
    "with open(demonstration_file) as f:\n",
    "    for i, l in enumerate(f):\n",
    "        pass\n",
    "num_observations = i + 1\n",
    "\n",
    "with open(demonstration_file) as f:\n",
    "    l = f.readline()\n",
    "    s, r, a, sp = l.strip().split(';')\n",
    "    \n",
    "    slen = len(s.split(','))\n",
    "    rlen = len(r.split(','))\n",
    "    alen = len(a.split(','))\n",
    "    \n",
    "    s_arr = np.zeros((num_observations, slen))\n",
    "    r_arr = np.zeros((num_observations, rlen))\n",
    "    a_arr = np.zeros((num_observations, alen))\n",
    "    sprime_arr = np.zeros((num_observations, slen))\n",
    "    \n",
    "    \n",
    "with open(demonstration_file) as f:\n",
    "    i = 0\n",
    "    for l in f:\n",
    "        if len(l.strip().split(';')) <= 1:\n",
    "            continue\n",
    "        i += 1\n",
    "        s, r, a, sp = l.strip().split(';')\n",
    "        s_arr[i,:] = parse(s)\n",
    "        r_arr[i,:] = parse(r)\n",
    "        a_arr[i,:] = parse(a)\n",
    "        sprime_arr[i,:] = parse(sp)"
   ]
  },
  {
   "cell_type": "code",
   "execution_count": 11,
   "metadata": {},
   "outputs": [
    {
     "name": "stdout",
     "output_type": "stream",
     "text": [
      "(10010000, 8)\n",
      "(10010000, 1)\n",
      "(10010000, 2)\n",
      "(10010000, 8)\n"
     ]
    }
   ],
   "source": [
    "print(s_arr.shape)\n",
    "print(r_arr.shape)\n",
    "print(a_arr.shape)\n",
    "print(sprime_arr.shape)"
   ]
  },
  {
   "cell_type": "code",
   "execution_count": 12,
   "metadata": {},
   "outputs": [],
   "source": [
    "def td_learning(estimator, num_episodes, discount_factor=0.95):\n",
    "    \n",
    "    for episode in range(num_episodes):\n",
    "        pkl_name = 'swimmer_value_estimator%d.pkl' % episode\n",
    "        sys.stdout.flush()\n",
    "        for i in itertools.count():\n",
    "            if i >= s_arr.shape[0]:\n",
    "                break\n",
    "            state = s_arr[i,:]\n",
    "            reward = r_arr[i,:]\n",
    "            # action not needed for incremental update when we are only learning value function!\n",
    "            # we have no idea how states transition or how to choose a good state action pair\n",
    "            # but that's ok :) \n",
    "            action = a_arr[i,:]\n",
    "            next_state = sprime_arr[i,:]\n",
    "            \n",
    "            # TD Update\n",
    "            q_value_next = estimator.value([next_state])\n",
    "            \n",
    "            td_target = reward + discount_factor * q_value_next\n",
    "            \n",
    "            # Update the function approximator using our target\n",
    "            estimator.update(state, td_target)\n",
    "            \n",
    "            print(\"\\rStep {} @ Episode {}/{}\".format(i, episode + 1, num_episodes), end=\"\")\n",
    "        \n",
    "        with open(pkl_name, 'wb') as pkl:\n",
    "            pickle.dump(estimator, pkl)"
   ]
  },
  {
   "cell_type": "code",
   "execution_count": 13,
   "metadata": {},
   "outputs": [
    {
     "data": {
      "text/plain": [
       "SGDRegressor(alpha=0.0001, average=False, early_stopping=False, epsilon=0.1,\n",
       "       eta0=0.01, fit_intercept=True, l1_ratio=0.15,\n",
       "       learning_rate='constant', loss='squared_loss', max_iter=None,\n",
       "       n_iter=None, n_iter_no_change=5, penalty='l2', power_t=0.25,\n",
       "       random_state=None, shuffle=True, tol=None, validation_fraction=0.1,\n",
       "       verbose=0, warm_start=False)"
      ]
     },
     "execution_count": 13,
     "metadata": {},
     "output_type": "execute_result"
    }
   ],
   "source": [
    "# Feature Preprocessing: Normalize to zero mean and unit variance\n",
    "# We use a few samples from the observation space to do this\n",
    "scaler = sklearn.preprocessing.StandardScaler()\n",
    "scaler.fit(s_arr)\n",
    "\n",
    "# Used to convert a state to a featurizes represenation.\n",
    "# We use RBF kernels with different variances to cover different parts of the space\n",
    "featurizer = sklearn.pipeline.FeatureUnion([\n",
    "        (\"rbf1\", RBFSampler(gamma=5.0, n_components=100)),\n",
    "        (\"rbf2\", RBFSampler(gamma=2.0, n_components=100)),\n",
    "        (\"rbf3\", RBFSampler(gamma=1.0, n_components=100)),\n",
    "        (\"rbf4\", RBFSampler(gamma=0.5, n_components=100))\n",
    "        ])\n",
    "featurizer.fit(scaler.transform(s_arr))\n",
    "\n",
    "model = SGDRegressor(learning_rate=\"constant\")\n",
    "# allow for predictions by doing a single partial fit\n",
    "model.partial_fit(featurizer.transform(scaler.transform([s_arr[0,:]])), [0])"
   ]
  },
  {
   "cell_type": "code",
   "execution_count": 15,
   "metadata": {},
   "outputs": [],
   "source": [
    "value_estimator = ValueEstimator(scaler, featurizer, model)"
   ]
  },
  {
   "cell_type": "code",
   "execution_count": null,
   "metadata": {},
   "outputs": [
    {
     "name": "stdout",
     "output_type": "stream",
     "text": [
      "Step 2835414 @ Episode 3/300"
     ]
    }
   ],
   "source": [
    "stats = td_learning(value_estimator, 30, discount_factor=0.95)"
   ]
  },
  {
   "cell_type": "code",
   "execution_count": 69,
   "metadata": {},
   "outputs": [],
   "source": [
    " with open('swimmer_value_estimator.pkl', 'wb') as pkl:\n",
    "    pickle.dump(estimator, pkl) "
   ]
  }
 ],
 "metadata": {
  "kernelspec": {
   "display_name": "Python 3",
   "language": "python",
   "name": "python3"
  },
  "language_info": {
   "codemirror_mode": {
    "name": "ipython",
    "version": 3
   },
   "file_extension": ".py",
   "mimetype": "text/x-python",
   "name": "python",
   "nbconvert_exporter": "python",
   "pygments_lexer": "ipython3",
   "version": "3.6.2"
  }
 },
 "nbformat": 4,
 "nbformat_minor": 1
}
